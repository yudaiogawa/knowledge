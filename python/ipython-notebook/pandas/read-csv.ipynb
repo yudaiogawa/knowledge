{
 "cells": [
  {
   "cell_type": "code",
   "execution_count": 4,
   "metadata": {
    "collapsed": true
   },
   "outputs": [],
   "source": [
    "import pandas as pandas"
   ]
  },
  {
   "cell_type": "code",
   "execution_count": 5,
   "metadata": {
    "collapsed": false
   },
   "outputs": [],
   "source": [
    "accelerationFrame = pandas.read_csv('acceleration.csv')"
   ]
  },
  {
   "cell_type": "code",
   "execution_count": 6,
   "metadata": {
    "collapsed": true
   },
   "outputs": [
    {
     "data": {
      "text/html": [
       "<div>\n",
       "<table border=\"1\" class=\"dataframe\">\n",
       "  <thead>\n",
       "    <tr style=\"text-align: right;\">\n",
       "      <th></th>\n",
       "      <th>time</th>\n",
       "      <th>x</th>\n",
       "      <th>y</th>\n",
       "      <th>z</th>\n",
       "    </tr>\n",
       "  </thead>\n",
       "  <tbody>\n",
       "    <tr>\n",
       "      <th>0</th>\n",
       "      <td>1497717838928</td>\n",
       "      <td>0.108704</td>\n",
       "      <td>-0.082260</td>\n",
       "      <td>-1.020905</td>\n",
       "    </tr>\n",
       "    <tr>\n",
       "      <th>1</th>\n",
       "      <td>1497717838937</td>\n",
       "      <td>0.120270</td>\n",
       "      <td>-0.089645</td>\n",
       "      <td>-1.065796</td>\n",
       "    </tr>\n",
       "    <tr>\n",
       "      <th>2</th>\n",
       "      <td>1497717838945</td>\n",
       "      <td>0.129517</td>\n",
       "      <td>-0.076187</td>\n",
       "      <td>-1.087723</td>\n",
       "    </tr>\n",
       "    <tr>\n",
       "      <th>3</th>\n",
       "      <td>1497717838955</td>\n",
       "      <td>0.146194</td>\n",
       "      <td>-0.036682</td>\n",
       "      <td>-1.077881</td>\n",
       "    </tr>\n",
       "    <tr>\n",
       "      <th>4</th>\n",
       "      <td>1497717838964</td>\n",
       "      <td>0.174423</td>\n",
       "      <td>0.007797</td>\n",
       "      <td>-1.033630</td>\n",
       "    </tr>\n",
       "    <tr>\n",
       "      <th>5</th>\n",
       "      <td>1497717838974</td>\n",
       "      <td>0.199707</td>\n",
       "      <td>0.048935</td>\n",
       "      <td>-0.969986</td>\n",
       "    </tr>\n",
       "    <tr>\n",
       "      <th>6</th>\n",
       "      <td>1497717838984</td>\n",
       "      <td>0.202728</td>\n",
       "      <td>0.064087</td>\n",
       "      <td>-0.916321</td>\n",
       "    </tr>\n",
       "    <tr>\n",
       "      <th>7</th>\n",
       "      <td>1497717838994</td>\n",
       "      <td>0.190094</td>\n",
       "      <td>0.065857</td>\n",
       "      <td>-0.929916</td>\n",
       "    </tr>\n",
       "    <tr>\n",
       "      <th>8</th>\n",
       "      <td>1497717839004</td>\n",
       "      <td>0.167908</td>\n",
       "      <td>0.083496</td>\n",
       "      <td>-0.956650</td>\n",
       "    </tr>\n",
       "    <tr>\n",
       "      <th>9</th>\n",
       "      <td>1497717839014</td>\n",
       "      <td>0.171005</td>\n",
       "      <td>0.092590</td>\n",
       "      <td>-0.935654</td>\n",
       "    </tr>\n",
       "  </tbody>\n",
       "</table>\n",
       "</div>"
      ],
      "text/plain": [
       "            time         x         y         z\n",
       "0  1497717838928  0.108704 -0.082260 -1.020905\n",
       "1  1497717838937  0.120270 -0.089645 -1.065796\n",
       "2  1497717838945  0.129517 -0.076187 -1.087723\n",
       "3  1497717838955  0.146194 -0.036682 -1.077881\n",
       "4  1497717838964  0.174423  0.007797 -1.033630\n",
       "5  1497717838974  0.199707  0.048935 -0.969986\n",
       "6  1497717838984  0.202728  0.064087 -0.916321\n",
       "7  1497717838994  0.190094  0.065857 -0.929916\n",
       "8  1497717839004  0.167908  0.083496 -0.956650\n",
       "9  1497717839014  0.171005  0.092590 -0.935654"
      ]
     },
     "execution_count": 6,
     "metadata": {},
     "output_type": "execute_result"
    }
   ],
   "source": [
    "accelerationFrame"
   ]
  },
  {
   "cell_type": "code",
   "execution_count": 7,
   "metadata": {
    "collapsed": true
   },
   "outputs": [],
   "source": [
    "accelerationFrame.to_csv('acceleration-copy.csv')"
   ]
  },
  {
   "cell_type": "code",
   "execution_count": 8,
   "metadata": {
    "collapsed": true
   },
   "outputs": [],
   "source": [
    "accelerationFrameCopy = pandas.read_csv('acceleration-copy.csv')"
   ]
  },
  {
   "cell_type": "code",
   "execution_count": 9,
   "metadata": {
    "collapsed": true
   },
   "outputs": [
    {
     "data": {
      "text/html": [
       "<div>\n",
       "<table border=\"1\" class=\"dataframe\">\n",
       "  <thead>\n",
       "    <tr style=\"text-align: right;\">\n",
       "      <th></th>\n",
       "      <th>Unnamed: 0</th>\n",
       "      <th>time</th>\n",
       "      <th>x</th>\n",
       "      <th>y</th>\n",
       "      <th>z</th>\n",
       "    </tr>\n",
       "  </thead>\n",
       "  <tbody>\n",
       "    <tr>\n",
       "      <th>0</th>\n",
       "      <td>0</td>\n",
       "      <td>1497717838928</td>\n",
       "      <td>0.108704</td>\n",
       "      <td>-0.082260</td>\n",
       "      <td>-1.020905</td>\n",
       "    </tr>\n",
       "    <tr>\n",
       "      <th>1</th>\n",
       "      <td>1</td>\n",
       "      <td>1497717838937</td>\n",
       "      <td>0.120270</td>\n",
       "      <td>-0.089645</td>\n",
       "      <td>-1.065796</td>\n",
       "    </tr>\n",
       "    <tr>\n",
       "      <th>2</th>\n",
       "      <td>2</td>\n",
       "      <td>1497717838945</td>\n",
       "      <td>0.129517</td>\n",
       "      <td>-0.076187</td>\n",
       "      <td>-1.087723</td>\n",
       "    </tr>\n",
       "    <tr>\n",
       "      <th>3</th>\n",
       "      <td>3</td>\n",
       "      <td>1497717838955</td>\n",
       "      <td>0.146194</td>\n",
       "      <td>-0.036682</td>\n",
       "      <td>-1.077881</td>\n",
       "    </tr>\n",
       "    <tr>\n",
       "      <th>4</th>\n",
       "      <td>4</td>\n",
       "      <td>1497717838964</td>\n",
       "      <td>0.174423</td>\n",
       "      <td>0.007797</td>\n",
       "      <td>-1.033630</td>\n",
       "    </tr>\n",
       "    <tr>\n",
       "      <th>5</th>\n",
       "      <td>5</td>\n",
       "      <td>1497717838974</td>\n",
       "      <td>0.199707</td>\n",
       "      <td>0.048935</td>\n",
       "      <td>-0.969986</td>\n",
       "    </tr>\n",
       "    <tr>\n",
       "      <th>6</th>\n",
       "      <td>6</td>\n",
       "      <td>1497717838984</td>\n",
       "      <td>0.202728</td>\n",
       "      <td>0.064087</td>\n",
       "      <td>-0.916321</td>\n",
       "    </tr>\n",
       "    <tr>\n",
       "      <th>7</th>\n",
       "      <td>7</td>\n",
       "      <td>1497717838994</td>\n",
       "      <td>0.190094</td>\n",
       "      <td>0.065857</td>\n",
       "      <td>-0.929916</td>\n",
       "    </tr>\n",
       "    <tr>\n",
       "      <th>8</th>\n",
       "      <td>8</td>\n",
       "      <td>1497717839004</td>\n",
       "      <td>0.167908</td>\n",
       "      <td>0.083496</td>\n",
       "      <td>-0.956650</td>\n",
       "    </tr>\n",
       "    <tr>\n",
       "      <th>9</th>\n",
       "      <td>9</td>\n",
       "      <td>1497717839014</td>\n",
       "      <td>0.171005</td>\n",
       "      <td>0.092590</td>\n",
       "      <td>-0.935654</td>\n",
       "    </tr>\n",
       "  </tbody>\n",
       "</table>\n",
       "</div>"
      ],
      "text/plain": [
       "   Unnamed: 0           time         x         y         z\n",
       "0           0  1497717838928  0.108704 -0.082260 -1.020905\n",
       "1           1  1497717838937  0.120270 -0.089645 -1.065796\n",
       "2           2  1497717838945  0.129517 -0.076187 -1.087723\n",
       "3           3  1497717838955  0.146194 -0.036682 -1.077881\n",
       "4           4  1497717838964  0.174423  0.007797 -1.033630\n",
       "5           5  1497717838974  0.199707  0.048935 -0.969986\n",
       "6           6  1497717838984  0.202728  0.064087 -0.916321\n",
       "7           7  1497717838994  0.190094  0.065857 -0.929916\n",
       "8           8  1497717839004  0.167908  0.083496 -0.956650\n",
       "9           9  1497717839014  0.171005  0.092590 -0.935654"
      ]
     },
     "execution_count": 9,
     "metadata": {},
     "output_type": "execute_result"
    }
   ],
   "source": [
    "accelerationFrameCopy"
   ]
  },
  {
   "cell_type": "code",
   "execution_count": null,
   "metadata": {
    "collapsed": true
   },
   "outputs": [],
   "source": []
  }
 ],
 "metadata": {
  "kernelspec": {
   "display_name": "Python 3",
   "language": "python",
   "name": "python3"
  },
  "language_info": {
   "codemirror_mode": {
    "name": "ipython",
    "version": 3
   },
   "file_extension": ".py",
   "mimetype": "text/x-python",
   "name": "python",
   "nbconvert_exporter": "python",
   "pygments_lexer": "ipython3",
   "version": "3.6.0"
  }
 },
 "nbformat": 4,
 "nbformat_minor": 2
}
